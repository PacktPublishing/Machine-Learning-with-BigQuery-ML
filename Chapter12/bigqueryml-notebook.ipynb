{
 "cells": [
  {
   "cell_type": "markdown",
   "id": "placed-there",
   "metadata": {},
   "source": [
    "# NYC Bike Sharing Linear Regression"
   ]
  },
  {
   "cell_type": "markdown",
   "id": "little-friday",
   "metadata": {},
   "source": [
    "The following steps will show you how to train, evaluate and test a linear regression model using BigQuery ML."
   ]
  },
  {
   "cell_type": "markdown",
   "id": "extra-omaha",
   "metadata": {},
   "source": [
    "## Data Preparation"
   ]
  },
  {
   "cell_type": "code",
   "execution_count": 2,
   "id": "logical-level",
   "metadata": {},
   "outputs": [
    {
     "name": "stdout",
     "output_type": "stream",
     "text": [
      "Created dataset bigqueryml-packt.12_notebook\n"
     ]
    }
   ],
   "source": [
    "from google.cloud import bigquery\n",
    "\n",
    "# Construct a BigQuery client object.\n",
    "client = bigquery.Client()\n",
    "\n",
    "dataset_id = \"{}.12_notebook\".format(client.project)\n",
    "\n",
    "# Construct a full Dataset object to send to the API.\n",
    "dataset = bigquery.Dataset(dataset_id)\n",
    "\n",
    "# Geographic location where the dataset should reside.\n",
    "dataset.location = \"US\"\n",
    "\n",
    "# Dataset creation\n",
    "dataset = client.create_dataset(dataset, timeout=30)  \n",
    "print(\"Created dataset {}.{}\".format(client.project, dataset.dataset_id))"
   ]
  },
  {
   "cell_type": "code",
   "execution_count": 3,
   "id": "plain-arcade",
   "metadata": {},
   "outputs": [
    {
     "data": {
      "text/html": [
       "<div>\n",
       "<style scoped>\n",
       "    .dataframe tbody tr th:only-of-type {\n",
       "        vertical-align: middle;\n",
       "    }\n",
       "\n",
       "    .dataframe tbody tr th {\n",
       "        vertical-align: top;\n",
       "    }\n",
       "\n",
       "    .dataframe thead th {\n",
       "        text-align: right;\n",
       "    }\n",
       "</style>\n",
       "<table border=\"1\" class=\"dataframe\">\n",
       "  <thead>\n",
       "    <tr style=\"text-align: right;\">\n",
       "      <th></th>\n",
       "    </tr>\n",
       "  </thead>\n",
       "  <tbody>\n",
       "  </tbody>\n",
       "</table>\n",
       "</div>"
      ],
      "text/plain": [
       "Empty DataFrame\n",
       "Columns: []\n",
       "Index: []"
      ]
     },
     "execution_count": 3,
     "metadata": {},
     "output_type": "execute_result"
    }
   ],
   "source": [
    "%%bigquery\n",
    "\n",
    "### Creation of the training table ###\n",
    "CREATE OR REPLACE TABLE `12_notebook.training_table` AS\n",
    "              SELECT \n",
    "                    tripduration/60 tripduration,\n",
    "\t\t\t\t\tstarttime,\n",
    "\t\t\t\t\tstoptime,\n",
    "\t\t\t\t\tstart_station_id,\n",
    "\t\t\t\t\tstart_station_name,\n",
    "\t\t\t\t\tstart_station_latitude,\n",
    "\t\t\t\t\tstart_station_longitude,\n",
    "\t\t\t\t\tend_station_id,\n",
    "\t\t\t\t\tend_station_name,\n",
    "\t\t\t\t\tend_station_latitude,\n",
    "\t\t\t\t\tend_station_longitude,\n",
    "\t\t\t\t\tbikeid,\n",
    "\t\t\t\t\tusertype,\n",
    "\t\t\t\t\tbirth_year,\n",
    "\t\t\t\t\tgender,\n",
    "\t\t\t\t\tcustomer_plan\n",
    "              FROM\n",
    "                    `bigquery-public-data.new_york_citibike.citibike_trips`\n",
    "              WHERE \n",
    "                    (\n",
    "                        (EXTRACT (YEAR FROM starttime)=2017 AND\n",
    "                          (EXTRACT (MONTH FROM starttime)>=04 OR EXTRACT (MONTH FROM starttime)<=10))\n",
    "                        OR (EXTRACT (YEAR FROM starttime)=2018 AND\n",
    "                          (EXTRACT (MONTH FROM starttime)>=01 OR EXTRACT (MONTH FROM starttime)<=02))\n",
    "                    )\n",
    "                    AND (tripduration>=3*60 AND tripduration<=3*60*60)\n",
    "                    AND  birth_year is not NULL\n",
    "                    AND birth_year < 2007;"
   ]
  },
  {
   "cell_type": "code",
   "execution_count": 4,
   "id": "stock-radio",
   "metadata": {},
   "outputs": [
    {
     "data": {
      "text/html": [
       "<div>\n",
       "<style scoped>\n",
       "    .dataframe tbody tr th:only-of-type {\n",
       "        vertical-align: middle;\n",
       "    }\n",
       "\n",
       "    .dataframe tbody tr th {\n",
       "        vertical-align: top;\n",
       "    }\n",
       "\n",
       "    .dataframe thead th {\n",
       "        text-align: right;\n",
       "    }\n",
       "</style>\n",
       "<table border=\"1\" class=\"dataframe\">\n",
       "  <thead>\n",
       "    <tr style=\"text-align: right;\">\n",
       "      <th></th>\n",
       "    </tr>\n",
       "  </thead>\n",
       "  <tbody>\n",
       "  </tbody>\n",
       "</table>\n",
       "</div>"
      ],
      "text/plain": [
       "Empty DataFrame\n",
       "Columns: []\n",
       "Index: []"
      ]
     },
     "execution_count": 4,
     "metadata": {},
     "output_type": "execute_result"
    }
   ],
   "source": [
    "%%bigquery\n",
    "\n",
    "### Creation of the evaluation table ###\n",
    "CREATE OR REPLACE TABLE  `12_notebook.evaluation_table` AS\n",
    "SELECT \n",
    "                    tripduration/60 tripduration,\n",
    "\t\t\t\t\tstarttime,\n",
    "\t\t\t\t\tstoptime,\n",
    "\t\t\t\t\tstart_station_id,\n",
    "\t\t\t\t\tstart_station_name,\n",
    "\t\t\t\t\tstart_station_latitude,\n",
    "\t\t\t\t\tstart_station_longitude,\n",
    "\t\t\t\t\tend_station_id,\n",
    "\t\t\t\t\tend_station_name,\n",
    "\t\t\t\t\tend_station_latitude,\n",
    "\t\t\t\t\tend_station_longitude,\n",
    "\t\t\t\t\tbikeid,\n",
    "\t\t\t\t\tusertype,\n",
    "\t\t\t\t\tbirth_year,\n",
    "\t\t\t\t\tgender,\n",
    "\t\t\t\t\tcustomer_plan\n",
    "\t\t\t\tFROM\n",
    "                    `bigquery-public-data.new_york_citibike.citibike_trips`\n",
    "\t\t\t\tWHERE \n",
    "                    (EXTRACT (YEAR FROM starttime)=2018 AND (EXTRACT (MONTH FROM starttime)=03 OR EXTRACT (MONTH FROM starttime)=04))\n",
    "                    AND (tripduration>=3*60 AND tripduration<=3*60*60)\n",
    "                    AND  birth_year is not NULL\n",
    "                    AND birth_year < 2007;"
   ]
  },
  {
   "cell_type": "code",
   "execution_count": 5,
   "id": "fewer-corpus",
   "metadata": {},
   "outputs": [
    {
     "data": {
      "text/html": [
       "<div>\n",
       "<style scoped>\n",
       "    .dataframe tbody tr th:only-of-type {\n",
       "        vertical-align: middle;\n",
       "    }\n",
       "\n",
       "    .dataframe tbody tr th {\n",
       "        vertical-align: top;\n",
       "    }\n",
       "\n",
       "    .dataframe thead th {\n",
       "        text-align: right;\n",
       "    }\n",
       "</style>\n",
       "<table border=\"1\" class=\"dataframe\">\n",
       "  <thead>\n",
       "    <tr style=\"text-align: right;\">\n",
       "      <th></th>\n",
       "    </tr>\n",
       "  </thead>\n",
       "  <tbody>\n",
       "  </tbody>\n",
       "</table>\n",
       "</div>"
      ],
      "text/plain": [
       "Empty DataFrame\n",
       "Columns: []\n",
       "Index: []"
      ]
     },
     "execution_count": 5,
     "metadata": {},
     "output_type": "execute_result"
    }
   ],
   "source": [
    "%%bigquery\n",
    "\n",
    "### Creation of the prediction table ###\n",
    "CREATE OR REPLACE TABLE  `12_notebook.prediction_table` AS\n",
    "              SELECT \n",
    "                   tripduration/60 tripduration,\n",
    "\t\t\t\t\tstarttime,\n",
    "\t\t\t\t\tstoptime,\n",
    "\t\t\t\t\tstart_station_id,\n",
    "\t\t\t\t\tstart_station_name,\n",
    "\t\t\t\t\tstart_station_latitude,\n",
    "\t\t\t\t\tstart_station_longitude,\n",
    "\t\t\t\t\tend_station_id,\n",
    "\t\t\t\t\tend_station_name,\n",
    "\t\t\t\t\tend_station_latitude,\n",
    "\t\t\t\t\tend_station_longitude,\n",
    "\t\t\t\t\tbikeid,\n",
    "\t\t\t\t\tusertype,\n",
    "\t\t\t\t\tbirth_year,\n",
    "\t\t\t\t\tgender,\n",
    "\t\t\t\t\tcustomer_plan\n",
    "\t\t\t\tFROM\n",
    "                    `bigquery-public-data.new_york_citibike.citibike_trips`\n",
    "              WHERE \n",
    "                    EXTRACT (YEAR FROM starttime)=2018\n",
    "                    AND EXTRACT (MONTH FROM starttime)=05\n",
    "                     AND (tripduration>=3*60 AND tripduration<=3*60*60)\n",
    "                    AND  birth_year is not NULL\n",
    "                    AND birth_year < 2007;"
   ]
  },
  {
   "cell_type": "markdown",
   "id": "satisfied-vault",
   "metadata": {},
   "source": [
    "## Training the linear regression"
   ]
  },
  {
   "cell_type": "code",
   "execution_count": 6,
   "id": "nonprofit-tongue",
   "metadata": {},
   "outputs": [
    {
     "data": {
      "text/html": [
       "<div>\n",
       "<style scoped>\n",
       "    .dataframe tbody tr th:only-of-type {\n",
       "        vertical-align: middle;\n",
       "    }\n",
       "\n",
       "    .dataframe tbody tr th {\n",
       "        vertical-align: top;\n",
       "    }\n",
       "\n",
       "    .dataframe thead th {\n",
       "        text-align: right;\n",
       "    }\n",
       "</style>\n",
       "<table border=\"1\" class=\"dataframe\">\n",
       "  <thead>\n",
       "    <tr style=\"text-align: right;\">\n",
       "      <th></th>\n",
       "    </tr>\n",
       "  </thead>\n",
       "  <tbody>\n",
       "  </tbody>\n",
       "</table>\n",
       "</div>"
      ],
      "text/plain": [
       "Empty DataFrame\n",
       "Columns: []\n",
       "Index: []"
      ]
     },
     "execution_count": 6,
     "metadata": {},
     "output_type": "execute_result"
    }
   ],
   "source": [
    "%%bigquery\n",
    "\n",
    "CREATE OR REPLACE MODEL `12_notebook.linear_regression_notebook`\n",
    "OPTIONS\n",
    "  (model_type='linear_reg') AS\n",
    "SELECT\n",
    "  start_station_name,\n",
    "  end_station_name,\n",
    "   IF (EXTRACT(DAYOFWEEK FROM starttime)=1 OR EXTRACT(DAYOFWEEK FROM starttime)=7, true, false) is_weekend,\n",
    "  tripduration as label\n",
    "FROM\n",
    "  `12_notebook.training_table`;"
   ]
  },
  {
   "cell_type": "markdown",
   "id": "excited-mexico",
   "metadata": {},
   "source": [
    "## Evaluating the linear regression"
   ]
  },
  {
   "cell_type": "code",
   "execution_count": 7,
   "id": "primary-worthy",
   "metadata": {},
   "outputs": [
    {
     "data": {
      "text/html": [
       "<div>\n",
       "<style scoped>\n",
       "    .dataframe tbody tr th:only-of-type {\n",
       "        vertical-align: middle;\n",
       "    }\n",
       "\n",
       "    .dataframe tbody tr th {\n",
       "        vertical-align: top;\n",
       "    }\n",
       "\n",
       "    .dataframe thead th {\n",
       "        text-align: right;\n",
       "    }\n",
       "</style>\n",
       "<table border=\"1\" class=\"dataframe\">\n",
       "  <thead>\n",
       "    <tr style=\"text-align: right;\">\n",
       "      <th></th>\n",
       "      <th>mean_absolute_error</th>\n",
       "      <th>mean_squared_error</th>\n",
       "      <th>mean_squared_log_error</th>\n",
       "      <th>median_absolute_error</th>\n",
       "      <th>r2_score</th>\n",
       "      <th>explained_variance</th>\n",
       "    </tr>\n",
       "  </thead>\n",
       "  <tbody>\n",
       "    <tr>\n",
       "      <th>0</th>\n",
       "      <td>7.124097</td>\n",
       "      <td>119.461055</td>\n",
       "      <td>0.377953</td>\n",
       "      <td>5.51093</td>\n",
       "      <td>0.095371</td>\n",
       "      <td>0.095479</td>\n",
       "    </tr>\n",
       "  </tbody>\n",
       "</table>\n",
       "</div>"
      ],
      "text/plain": [
       "   mean_absolute_error  mean_squared_error  mean_squared_log_error  \\\n",
       "0             7.124097          119.461055                0.377953   \n",
       "\n",
       "   median_absolute_error  r2_score  explained_variance  \n",
       "0                5.51093  0.095371            0.095479  "
      ]
     },
     "execution_count": 7,
     "metadata": {},
     "output_type": "execute_result"
    }
   ],
   "source": [
    "%%bigquery\n",
    "\n",
    "SELECT\n",
    "  *\n",
    "FROM\n",
    "  ML.EVALUATE(MODEL `12_notebook.linear_regression_notebook`,\n",
    "    (\n",
    "    SELECT\n",
    "          start_station_name,\n",
    "          end_station_name,\n",
    "          IF (EXTRACT(DAYOFWEEK FROM starttime)=1 OR EXTRACT(DAYOFWEEK FROM starttime)=7, true, false) is_weekend,\n",
    "           tripduration as label\n",
    "    FROM\n",
    "           `12_notebook.evaluation_table`));"
   ]
  },
  {
   "cell_type": "markdown",
   "id": "vocal-maple",
   "metadata": {},
   "source": [
    "## Testing the linear regression"
   ]
  },
  {
   "cell_type": "code",
   "execution_count": 8,
   "id": "median-marker",
   "metadata": {},
   "outputs": [
    {
     "data": {
      "text/html": [
       "<div>\n",
       "<style scoped>\n",
       "    .dataframe tbody tr th:only-of-type {\n",
       "        vertical-align: middle;\n",
       "    }\n",
       "\n",
       "    .dataframe tbody tr th {\n",
       "        vertical-align: top;\n",
       "    }\n",
       "\n",
       "    .dataframe thead th {\n",
       "        text-align: right;\n",
       "    }\n",
       "</style>\n",
       "<table border=\"1\" class=\"dataframe\">\n",
       "  <thead>\n",
       "    <tr style=\"text-align: right;\">\n",
       "      <th></th>\n",
       "      <th>actual_duration</th>\n",
       "      <th>predicted_duration</th>\n",
       "      <th>difference_in_min</th>\n",
       "    </tr>\n",
       "  </thead>\n",
       "  <tbody>\n",
       "    <tr>\n",
       "      <th>0</th>\n",
       "      <td>16.616667</td>\n",
       "      <td>16.616668</td>\n",
       "      <td>9.775469e-07</td>\n",
       "    </tr>\n",
       "    <tr>\n",
       "      <th>1</th>\n",
       "      <td>15.683333</td>\n",
       "      <td>15.683348</td>\n",
       "      <td>1.502998e-05</td>\n",
       "    </tr>\n",
       "    <tr>\n",
       "      <th>2</th>\n",
       "      <td>12.233333</td>\n",
       "      <td>12.233349</td>\n",
       "      <td>1.526299e-05</td>\n",
       "    </tr>\n",
       "    <tr>\n",
       "      <th>3</th>\n",
       "      <td>12.133333</td>\n",
       "      <td>12.133318</td>\n",
       "      <td>1.571753e-05</td>\n",
       "    </tr>\n",
       "    <tr>\n",
       "      <th>4</th>\n",
       "      <td>12.800000</td>\n",
       "      <td>12.800024</td>\n",
       "      <td>2.423694e-05</td>\n",
       "    </tr>\n",
       "    <tr>\n",
       "      <th>...</th>\n",
       "      <td>...</td>\n",
       "      <td>...</td>\n",
       "      <td>...</td>\n",
       "    </tr>\n",
       "    <tr>\n",
       "      <th>1728073</th>\n",
       "      <td>179.316667</td>\n",
       "      <td>11.867817</td>\n",
       "      <td>1.674489e+02</td>\n",
       "    </tr>\n",
       "    <tr>\n",
       "      <th>1728074</th>\n",
       "      <td>179.350000</td>\n",
       "      <td>11.151197</td>\n",
       "      <td>1.681988e+02</td>\n",
       "    </tr>\n",
       "    <tr>\n",
       "      <th>1728075</th>\n",
       "      <td>178.316667</td>\n",
       "      <td>9.539430</td>\n",
       "      <td>1.687772e+02</td>\n",
       "    </tr>\n",
       "    <tr>\n",
       "      <th>1728076</th>\n",
       "      <td>178.916667</td>\n",
       "      <td>9.539430</td>\n",
       "      <td>1.693772e+02</td>\n",
       "    </tr>\n",
       "    <tr>\n",
       "      <th>1728077</th>\n",
       "      <td>179.583333</td>\n",
       "      <td>9.446258</td>\n",
       "      <td>1.701371e+02</td>\n",
       "    </tr>\n",
       "  </tbody>\n",
       "</table>\n",
       "<p>1728078 rows × 3 columns</p>\n",
       "</div>"
      ],
      "text/plain": [
       "         actual_duration  predicted_duration  difference_in_min\n",
       "0              16.616667           16.616668       9.775469e-07\n",
       "1              15.683333           15.683348       1.502998e-05\n",
       "2              12.233333           12.233349       1.526299e-05\n",
       "3              12.133333           12.133318       1.571753e-05\n",
       "4              12.800000           12.800024       2.423694e-05\n",
       "...                  ...                 ...                ...\n",
       "1728073       179.316667           11.867817       1.674489e+02\n",
       "1728074       179.350000           11.151197       1.681988e+02\n",
       "1728075       178.316667            9.539430       1.687772e+02\n",
       "1728076       178.916667            9.539430       1.693772e+02\n",
       "1728077       179.583333            9.446258       1.701371e+02\n",
       "\n",
       "[1728078 rows x 3 columns]"
      ]
     },
     "execution_count": 8,
     "metadata": {},
     "output_type": "execute_result"
    }
   ],
   "source": [
    "%%bigquery\n",
    "\n",
    "SELECT\n",
    "   tripduration as actual_duration,\n",
    "   predicted_label as predicted_duration,\n",
    "   ABS(tripduration - predicted_label) difference_in_min\n",
    "FROM\n",
    "  ML.PREDICT(MODEL `12_notebook.linear_regression_notebook`,\n",
    "    (\n",
    "    SELECT\n",
    "          start_station_name,\n",
    "          end_station_name,\n",
    "          IF (EXTRACT(DAYOFWEEK FROM starttime)=1 OR EXTRACT(DAYOFWEEK FROM starttime)=7, true, false) is_weekend,\n",
    "           tripduration\n",
    "    FROM\n",
    "           `12_notebook.prediction_table`\n",
    "    ))\n",
    "    order by  difference_in_min asc;"
   ]
  }
 ],
 "metadata": {
  "environment": {
   "name": "common-cpu.mnightly-2021-02-12-debian-10-test",
   "type": "gcloud",
   "uri": "gcr.io/deeplearning-platform-release/base-cpu:mnightly-2021-02-12-debian-10-test"
  },
  "kernelspec": {
   "display_name": "Python 3",
   "language": "python",
   "name": "python3"
  },
  "language_info": {
   "codemirror_mode": {
    "name": "ipython",
    "version": 3
   },
   "file_extension": ".py",
   "mimetype": "text/x-python",
   "name": "python",
   "nbconvert_exporter": "python",
   "pygments_lexer": "ipython3",
   "version": "3.7.9"
  }
 },
 "nbformat": 4,
 "nbformat_minor": 5
}
